{
 "cells": [
  {
   "cell_type": "markdown",
   "metadata": {},
   "source": [
    "## 1.2 Training"
   ]
  },
  {
   "cell_type": "code",
   "execution_count": 1,
   "metadata": {
    "inputHidden": false,
    "outputHidden": false
   },
   "outputs": [],
   "source": [
    "import numpy as np \n",
    "import tensorflow as tf\n",
    "from helper import *"
   ]
  },
  {
   "cell_type": "markdown",
   "metadata": {},
   "source": [
    "Tensorflow has built in [optimizers](https://www.tensorflow.org/api_guides/python/train#Optimizers) that do [automatic differentiation](https://www.tensorflow.org/versions/r0.12/api_docs/python/train/gradient_computation) and the application of gradients to variables. These are called optimizers. You can create an optimizer operation with the following code, where the last line runs a single update of the parameters with the gradients. \n",
    "\n",
    "```\n",
    "optimizer = tf.train.GradientDescentOptimizer(0.01)\n",
    "train = optimizer.minimize(loss)\n",
    "sess.run(train, {x: x_train, y: y_train})\n",
    "```\n",
    "The argument of the optimizer here is the learning rate and `loss` is the objective for the training which we can define. For example we can use the MSE loss:\n",
    "\n",
    "```\n",
    "loss = tf.reduce_sum(tf.square(linear_model - y))\n",
    "```\n",
    "\n",
    "**Train a linear model `W*x + b` on the following data using the stochastic gradient descent optimizer. Print the resulting parameters and loss after training.**\n",
    "\n",
    "```\n",
    "x_train = [1, 2, 3, 4]\n",
    "y_train = [0, -1, -2, -3]\n",
    "```\n",
    "\n",
    "[Help and a solution](https://www.tensorflow.org/get_started/get_started#tftrain_api)"
   ]
  },
  {
   "cell_type": "code",
   "execution_count": 18,
   "metadata": {
    "inputHidden": false,
    "outputHidden": false
   },
   "outputs": [],
   "source": [
    "sess = tf.InteractiveSession()\n",
    "\n",
    "x = tf.placeholder(tf.float32)\n",
    "y = tf.placeholder(tf.float32)\n",
    "\n",
    "weights = tf.Variable(tf.random_uniform(shape=tf.shape(4)))\n",
    "bias = tf.Variable(tf.random_uniform(shape=tf.shape(1)))\n",
    "\n",
    "linear_model = tf.multiply(weights, x) + bias\n",
    "\n",
    "init = tf.global_variables_initializer()\n",
    "sess.run(init)\n",
    "\n",
    "loss = tf.reduce_sum(tf.square(linear_model - y))\n",
    "\n",
    "optimizer = tf.train.GradientDescentOptimizer(0.01)\n",
    "train = optimizer.minimize(loss)\n",
    "\n",
    "x_train = [1, 2, 3, 4]\n",
    "y_train = [0, -1, -2, -3]\n",
    "\n",
    "sess.run(train, {x: x_train, y: y_train})"
   ]
  },
  {
   "cell_type": "markdown",
   "metadata": {},
   "source": [
    "You can also follow the progress of your code in [TensorBoard](https://www.tensorflow.org/get_started/summaries_and_tensorboard), a visualisation web app that is installed along with TensorFlow. You can run it by entering \n",
    "```\n",
    "tensorboard --logdir=\"log-dir-path\"\n",
    "```\n",
    "in your terminal, then view it by going to http://127.0.0.1:6006 . This will only work if you are running it on your own computer - if you aren't, you can see a demo by going to http://servername:6006"
   ]
  }
 ],
 "metadata": {
  "kernel_info": {
   "name": "python3"
  },
  "kernelspec": {
   "display_name": "Python 3",
   "language": "python",
   "name": "python3"
  },
  "language_info": {
   "codemirror_mode": {
    "name": "ipython",
    "version": 3
   },
   "file_extension": ".py",
   "mimetype": "text/x-python",
   "name": "python",
   "nbconvert_exporter": "python",
   "pygments_lexer": "ipython3",
   "version": "3.7.1"
  },
  "nteract": {
   "version": "0.2.0"
  }
 },
 "nbformat": 4,
 "nbformat_minor": 4
}
